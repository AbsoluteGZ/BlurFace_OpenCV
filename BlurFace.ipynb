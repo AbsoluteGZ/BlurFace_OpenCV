{
 "cells": [
  {
   "cell_type": "code",
   "execution_count": null,
   "metadata": {},
   "outputs": [],
   "source": [
    "import cv2\n",
    "import numpy as np\n",
    "import gdown\n",
    "from matplotlib import pyplot as plt"
   ]
  },
  {
   "cell_type": "code",
   "execution_count": null,
   "metadata": {},
   "outputs": [],
   "source": [
    "gdown.download('https://www.intermedia.ru/img/news_x400/386271.jpg', None, quiet=True)\n",
    "\n",
    "img = cv2.imread('./386271.jpg')\n",
    "img2 = img.copy()"
   ]
  },
  {
   "cell_type": "code",
   "execution_count": null,
   "metadata": {},
   "outputs": [],
   "source": [
    "classifier_face = cv2.CascadeClassifier(cv2.data.haarcascades + \"haarcascade_frontalface_default.xml\")\n",
    "classifier_eye = cv2.CascadeClassifier(cv2.data.haarcascades + \"haarcascade_eye.xml\")\n",
    "\n",
    "gray = cv2.cvtColor(img, cv2.COLOR_BGR2GRAY)\n",
    "\n",
    "faces = classifier_face.detectMultiScale(gray, scaleFactor=2, minNeighbors=2, minSize=(50, 50))\n",
    "\n",
    "def blur_face(face, mask):\n",
    "    blurred_face = cv2.GaussianBlur(face, (99, 99), 0)\n",
    "    return cv2.bitwise_and(blurred_face, blurred_face, mask=mask)\n",
    "\n",
    "for (x, y, w, h) in faces:\n",
    "    face = img[y:y+h, x:x+w]\n",
    "    face_gray = cv2.cvtColor(face, cv2.COLOR_BGR2GRAY)\n",
    "    eyes = classifier_eye.detectMultiScale(face_gray, scaleFactor=1.1, minNeighbors=5, minSize=(20, 20))\n",
    "\n",
    "    center = (w // 2, h // 2)\n",
    "    axes = (w // 2, h // 3)\n",
    "    mask = np.zeros((h, w), dtype=np.uint8)\n",
    "    cv2.ellipse(mask, center, axes, 90, 0, 360, 255, -1)\n",
    "\n",
    "    # Вырезаем глаза из маски\n",
    "    for (ex, ey, ew, eh) in eyes:\n",
    "        center_x = ex + ew // 2\n",
    "        center_y = ey + eh // 2\n",
    "        radius = max(ew, eh) // 2\n",
    "        cv2.circle(mask, (center_x, center_y), radius, 0, -1)\n",
    "\n",
    "    # Применяем размытие только к области маски\n",
    "    blurred_face = blur_face(face, mask)\n",
    "    face_with_eyes = cv2.bitwise_and(face, face, mask=cv2.bitwise_not(mask))\n",
    "    combined_face = cv2.add(face_with_eyes, blurred_face)\n",
    "    img2[y:y+h, x:x+w] = combined_face\n"
   ]
  },
  {
   "cell_type": "code",
   "execution_count": null,
   "metadata": {},
   "outputs": [],
   "source": [
    "fig, (ax1, ax2) = plt.subplots(1, 2, figsize=(12, 6))\n",
    "ax1.imshow(cv2.cvtColor(img, cv2.COLOR_BGR2RGB))\n",
    "ax1.set_title('Исходное изображение')\n",
    "ax1.axis('off')\n",
    "\n",
    "ax2.imshow(cv2.cvtColor(img2, cv2.COLOR_BGR2RGB))\n",
    "ax2.set_title('Изображение после обработки')\n",
    "ax2.axis('off')\n",
    "\n",
    "plt.show()"
   ]
  }
 ],
 "metadata": {
  "language_info": {
   "name": "python"
  }
 },
 "nbformat": 4,
 "nbformat_minor": 2
}
